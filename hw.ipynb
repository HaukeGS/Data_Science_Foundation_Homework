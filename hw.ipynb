{
 "cells": [
  {
   "cell_type": "markdown",
   "id": "ba2b4cf58fdf5164",
   "metadata": {},
   "source": [
    "# Homework\n",
    "\n",
    "**Due Date: 2024-06-27, 23:59**\n",
    "\n",
    "You will need to succeed in this homework to be eligable for the final exam.\n",
    "\n",
    "Should in the grey shaded panel not be a \"ds24\", then you will struggle with your imports -- and we will need to change the kernel: click on kernel/change kernel/ds24\n",
    "\n",
    "You are allowed to work in teams of 3. Make sure to individually submit the homework, each containing the full names of your team members.\n",
    "\n",
    "\n",
    "**CAUTION** There are a few training runs in this notebook, which you are of course allowed to change to your heart's content, just make sure that on submission, you change the epoch variable back to the original value. Otherwise the autograder will fail you due to runtime issues with your notebook!\n"
   ]
  },
  {
   "cell_type": "code",
   "execution_count": 51,
   "id": "2daa6bc6e6684066",
   "metadata": {
    "ExecuteTime": {
     "end_time": "2024-06-07T13:05:50.309133Z",
     "start_time": "2024-06-07T13:05:50.307462Z"
    }
   },
   "outputs": [],
   "source": [
    "members = []"
   ]
  },
  {
   "cell_type": "code",
   "execution_count": 52,
   "id": "8d213577fc01197e",
   "metadata": {
    "ExecuteTime": {
     "end_time": "2024-06-07T13:05:51.131400Z",
     "start_time": "2024-06-07T13:05:50.309807Z"
    }
   },
   "outputs": [],
   "source": [
    "import torch\n",
    "import numpy as np\n",
    "import random"
   ]
  },
  {
   "cell_type": "markdown",
   "id": "caff7d1743bc8cef",
   "metadata": {
    "deletable": false,
    "editable": false,
    "nbgrader": {
     "cell_type": "markdown",
     "checksum": "31be0bea23b639e1687673f4b81cd15c",
     "grade": false,
     "grade_id": "cell-d1291008f26ab5da",
     "locked": true,
     "schema_version": 3,
     "solution": false,
     "task": false
    }
   },
   "source": [
    "# Task 1: Dataset\n",
    "As a Machine Learner, you will often need to create custom datasets for your projects.\n",
    "In this task, you will create a custom dataset class, ShapeDataset, which generates images with random placements of specific shapes. The shapes include horizontal lines, vertical lines, diagonal lines (including off-diagonals in both directions with the exception of the edges) , and 'L' shapes (the L should really only be 3 pixels). Each image will be a 9x9 grid where the shape is represented by 1s and the background is represented by 0s.  Should you not be able to write one of these, just continue by returning the empty image; where the image contains the randomly placed operation index (horizontal=0, vertical=1, diagonal=2, L=3)."
   ]
  },
  {
   "cell_type": "code",
   "execution_count": 53,
   "id": "d5d6c73706d135d8",
   "metadata": {
    "ExecuteTime": {
     "end_time": "2024-06-07T13:05:51.137426Z",
     "start_time": "2024-06-07T13:05:51.132551Z"
    },
    "deletable": false,
    "nbgrader": {
     "cell_type": "code",
     "checksum": "cdab6b883f20091ba0e7afdfb97d5275",
     "grade": false,
     "grade_id": "cell-5bc528f5f86475ec",
     "locked": false,
     "schema_version": 3,
     "solution": true,
     "task": false
    }
   },
   "outputs": [],
   "source": [
    "def horizontal_line():\n",
    "    img = np.zeros((9, 9), dtype=int)\n",
    "    img[random.randrange(9)] = np.full((1, 9), 1, dtype=int)\n",
    "    return img\n",
    "\n",
    "\n",
    "def vertical_line():\n",
    "    img = np.zeros((9, 9), dtype=int)\n",
    "    img[random.randrange(9)] = np.full((1, 9), 1, dtype=int)\n",
    "    return img.T\n",
    "\n",
    "\n",
    "def diagonal_line():\n",
    "    img = np.zeros((9, 9), dtype=int)\n",
    "    pixel = (random.randrange(9), random.randrange(2)*8)\n",
    "    direction_rows = 0\n",
    "    direction_columns = 0\n",
    "    if pixel[0] == 0:\n",
    "        direction_rows = 1\n",
    "    elif pixel[0] == 8:\n",
    "        direction_rows = -1\n",
    "    else:\n",
    "        direction_rows = (-1) ** (random.randrange(1,3))\n",
    "    if pixel[1] == 0:\n",
    "        direction_columns = 1\n",
    "    elif pixel[1] == 8:\n",
    "        direction_columns = -1\n",
    "    pixel_temp = pixel\n",
    "    while pixel_temp[0] >= 0 and pixel_temp[0] <= 8 and pixel_temp[1] >= 0 and pixel_temp[1] <= 8:\n",
    "        img[pixel_temp] = 1\n",
    "        pixel_temp = (pixel_temp[0]+direction_rows, pixel_temp[1]+direction_columns)\n",
    "    return img\n",
    "\n",
    "\n",
    "def l_shape():\n",
    "    img = np.zeros((9, 9), dtype=int)\n",
    "    pixel = (random.randrange(9), random.randrange(9))\n",
    "    x, y = 0, 0\n",
    "    if pixel[0] == 0:\n",
    "        x = 1\n",
    "    elif pixel[0] == 8:\n",
    "        x = 7\n",
    "    else: \n",
    "        x = pixel[0]+((-1) ** (random.randrange(1,3)))\n",
    "    if pixel[1] == 0:\n",
    "        y = 1\n",
    "    elif pixel[1] == 8:\n",
    "        y = 7\n",
    "    else: \n",
    "        y = pixel[1]+((-1) ** (random.randrange(1,3)))\n",
    "    diagonal_pixel = (x, y)\n",
    "    decider = random.randrange(2)\n",
    "    if decider:\n",
    "        connection_pixel = (diagonal_pixel[(decider+1) % 2], pixel[decider % 2])\n",
    "    else:\n",
    "        connection_pixel = (pixel[decider % 2], diagonal_pixel[(decider+1) % 2])\n",
    "    img[pixel] = 1\n",
    "    img[diagonal_pixel] = 1\n",
    "    img[connection_pixel] = 1\n",
    "    return img\n"
   ]
  },
  {
   "cell_type": "code",
   "execution_count": 54,
   "id": "7bf3d0fb9b516f2",
   "metadata": {
    "ExecuteTime": {
     "end_time": "2024-06-07T13:05:51.158757Z",
     "start_time": "2024-06-07T13:05:51.138266Z"
    },
    "deletable": false,
    "editable": false,
    "nbgrader": {
     "cell_type": "code",
     "checksum": "fdd90aa08bc40a773ed021e09ab13a76",
     "grade": true,
     "grade_id": "cell-65342d2cd90b7205",
     "locked": true,
     "points": 2,
     "schema_version": 3,
     "solution": false,
     "task": false
    }
   },
   "outputs": [
    {
     "name": "stdout",
     "output_type": "stream",
     "text": [
      "[[0 0 0 0 0 0 1 0 0]\n",
      " [0 0 0 0 0 1 1 0 0]\n",
      " [0 0 0 0 0 0 0 0 0]\n",
      " [0 0 0 0 0 0 0 0 0]\n",
      " [0 0 0 0 0 0 0 0 0]\n",
      " [0 0 0 0 0 0 0 0 0]\n",
      " [0 0 0 0 0 0 0 0 0]\n",
      " [0 0 0 0 0 0 0 0 0]\n",
      " [0 0 0 0 0 0 0 0 0]]\n"
     ]
    }
   ],
   "source": [
    "print(l_shape())"
   ]
  },
  {
   "cell_type": "code",
   "execution_count": null,
   "id": "32bb4dd49b4e1d98",
   "metadata": {
    "ExecuteTime": {
     "end_time": "2024-06-07T13:05:51.176581Z",
     "start_time": "2024-06-07T13:05:51.159503Z"
    },
    "deletable": false,
    "editable": false,
    "nbgrader": {
     "cell_type": "code",
     "checksum": "6a81dace34d58c00ad0627cc69439884",
     "grade": true,
     "grade_id": "cell-d826ddffe0066cbe",
     "locked": true,
     "points": 2,
     "schema_version": 3,
     "solution": false,
     "task": false
    }
   },
   "outputs": [],
   "source": []
  },
  {
   "cell_type": "code",
   "execution_count": null,
   "id": "e6046006fb4acd51",
   "metadata": {
    "ExecuteTime": {
     "end_time": "2024-06-07T13:05:51.193334Z",
     "start_time": "2024-06-07T13:05:51.178352Z"
    },
    "deletable": false,
    "editable": false,
    "nbgrader": {
     "cell_type": "code",
     "checksum": "b50cb0fe68badf050b858db6c9c1f241",
     "grade": true,
     "grade_id": "cell-5867db23ed9c8287",
     "locked": true,
     "points": 2,
     "schema_version": 3,
     "solution": false,
     "task": false
    }
   },
   "outputs": [],
   "source": []
  },
  {
   "cell_type": "markdown",
   "id": "c0f37ba1a8ede50",
   "metadata": {
    "deletable": false,
    "editable": false,
    "nbgrader": {
     "cell_type": "markdown",
     "checksum": "7dbde0ff046ad58009e6b0db5fd7527e",
     "grade": false,
     "grade_id": "cell-d79d7cb02df2ba45",
     "locked": true,
     "schema_version": 3,
     "solution": false,
     "task": false
    }
   },
   "source": [
    "Now we can write a dataset class, that returns us our images and labels using our helper functions."
   ]
  },
  {
   "cell_type": "code",
   "execution_count": 55,
   "id": "febe3a204b9d904f",
   "metadata": {
    "ExecuteTime": {
     "end_time": "2024-06-07T13:05:51.205232Z",
     "start_time": "2024-06-07T13:05:51.194145Z"
    },
    "deletable": false,
    "nbgrader": {
     "cell_type": "code",
     "checksum": "b2c49f71d7d9e3ee2c4a49c9627d39d6",
     "grade": false,
     "grade_id": "cell-8a36d9ced564a609",
     "locked": false,
     "schema_version": 3,
     "solution": true,
     "task": false
    }
   },
   "outputs": [],
   "source": [
    "from torch.utils.data import Dataset\n",
    "\n",
    "\n",
    "class ShapeDataset(Dataset):\n",
    "    def __init__(self, length):\n",
    "        self.images = []\n",
    "        self.labels = []\n",
    "        for n in range(length):\n",
    "            rng = random.randrange(4)\n",
    "            if rng == 0:\n",
    "                self.images.append(horizontal_line())\n",
    "            elif rng == 1:\n",
    "                self.images.append(vertical_line())\n",
    "            elif rng == 2:\n",
    "                self.images.append(diagonal_line())\n",
    "            elif rng == 3:\n",
    "                self.images.append(l_shape())\n",
    "            else:\n",
    "                raise Exception()\n",
    "            self.labels.append(rng)\n",
    "\n",
    "    def __len__(self):\n",
    "        return len(self.images)\n",
    "\n",
    "    def __getitem__(self, idx):\n",
    "        img = self.images[idx]\n",
    "        label = self.labels[idx]\n",
    "        img = torch.tensor(img,\n",
    "                           dtype=torch.float32)  # we make sure that it is a tensor that pytorch can use!\n",
    "        label = torch.tensor(label, dtype=torch.long)\n",
    "        return img, label"
   ]
  },
  {
   "cell_type": "code",
   "execution_count": 56,
   "id": "b096ac8d37e050e4",
   "metadata": {
    "ExecuteTime": {
     "end_time": "2024-06-07T13:05:51.400463Z",
     "start_time": "2024-06-07T13:05:51.206311Z"
    }
   },
   "outputs": [
    {
     "data": {
      "image/png": "[encoded data removed]",
      "text/plain": [
       "<Figure size 640x480 with 2 Axes>"
      ]
     },
     "metadata": {},
     "output_type": "display_data"
    },
    {
     "name": "stdout",
     "output_type": "stream",
     "text": [
      "torch.Size([3, 9, 9]) tensor([1, 3, 3])\n"
     ]
    }
   ],
   "source": [
    "# Let's check if your dataset works in a DataLoader:\n",
    "from torch.utils.data import DataLoader\n",
    "import matplotlib.pyplot as plt\n",
    "\n",
    "dataset = ShapeDataset(\n",
    "    10)  # notice, that the length is in our simulated case only relevant for how many \"epochs\" the data loader will run\n",
    "dataloader = DataLoader(dataset, batch_size=3, shuffle=True)\n",
    "\n",
    "for imgs, labels in dataloader:\n",
    "    # Create the plot\n",
    "    plt.imshow(imgs[0], cmap='viridis', interpolation='none')\n",
    "    plt.colorbar()\n",
    "    plt.title('2D Tensor Plot')\n",
    "    plt.show()\n",
    "    print(imgs.shape, labels)  # notice the batch dimension!\n",
    "    break"
   ]
  },
  {
   "cell_type": "code",
   "execution_count": null,
   "id": "ad100154d8816f03",
   "metadata": {
    "ExecuteTime": {
     "end_time": "2024-06-07T13:05:51.404879Z",
     "start_time": "2024-06-07T13:05:51.401469Z"
    },
    "deletable": false,
    "editable": false,
    "nbgrader": {
     "cell_type": "code",
     "checksum": "177403a31813f0db76205723a6ea37ce",
     "grade": true,
     "grade_id": "cell-8223bdabf5940e21",
     "locked": true,
     "points": 2,
     "schema_version": 3,
     "solution": false,
     "task": false
    }
   },
   "outputs": [],
   "source": []
  },
  {
   "cell_type": "markdown",
   "id": "36bcb24180c29bc2",
   "metadata": {
    "deletable": false,
    "editable": false,
    "nbgrader": {
     "cell_type": "markdown",
     "checksum": "7de81a3489709c00e8b14aa7a9ff50c0",
     "grade": false,
     "grade_id": "cell-c1e162a90a4e270f",
     "locked": true,
     "schema_version": 3,
     "solution": false,
     "task": false
    }
   },
   "source": [
    "Nice, now that we have a dataset, let us build a classifier capable of learning how to classify the base shapes"
   ]
  },
  {
   "cell_type": "markdown",
   "id": "aaf4dc49260a34ef",
   "metadata": {
    "deletable": false,
    "editable": false,
    "nbgrader": {
     "cell_type": "markdown",
     "checksum": "447695868fc35207f3898a9b23cd06f0",
     "grade": false,
     "grade_id": "cell-03aa1552720c8f17",
     "locked": true,
     "schema_version": 3,
     "solution": false,
     "task": false
    }
   },
   "source": [
    "# Task 2: Convolution Operation\n",
    "The task here is to write a simple convolution module with a single filter and calculate the forward pass manually. Make sure not to use any preimplemented `F.conv2d` operation or the nn.Conv2D. We will check that you didn't! Copying the src will be considered plagiarism and disqualify you. \n",
    "Of course, you should validate your solution against a F.conv2d from PyTorch to check if you are on the right track.  \n"
   ]
  },
  {
   "cell_type": "code",
   "execution_count": 57,
   "id": "e086767c2faf4c50",
   "metadata": {
    "ExecuteTime": {
     "end_time": "2024-06-07T13:05:51.426289Z",
     "start_time": "2024-06-07T13:05:51.405568Z"
    },
    "deletable": false,
    "nbgrader": {
     "cell_type": "code",
     "checksum": "04c975d1cee453a57d14e306fce78ba2",
     "grade": false,
     "grade_id": "cell-ba22373108832ca3",
     "locked": false,
     "schema_version": 3,
     "solution": true,
     "task": false
    }
   },
   "outputs": [],
   "source": [
    "import torch\n",
    "import torch.nn as nn\n",
    "import torch.nn.functional as F\n",
    "\n",
    "\n",
    "# Define the SimpleConvolution module from previous example\n",
    "class SimpleConvolution(nn.Module):\n",
    "    def __init__(self, in_channels, out_channels, kernel_size):\n",
    "        super(SimpleConvolution, self).__init__()\n",
    "\n",
    "        self.in_channels = in_channels\n",
    "        self.out_channels = out_channels\n",
    "        self.kernel_size = kernel_size\n",
    "\n",
    "        # Initialize the filter with random values\n",
    "        # The Parameter is important to let PyTorch know that this tensor should be trained\n",
    "        self.filter = nn.Parameter(torch.randn(out_channels, in_channels, kernel_size, kernel_size))\n",
    "\n",
    "    def forward(self, x):\n",
    "        if len(x.size()) == 4:\n",
    "            batch_size, input_channels, height, width = x.size()\n",
    "        elif len(x.size()) == 3:\n",
    "            batch_size, height, width = x.size()\n",
    "            input_channels = 1\n",
    "            x = x.unsqueeze(1)\n",
    "        else:\n",
    "            raise Exception(\"Tensor in wrong format. Shape \" + x.size() + \" not allowed!\")\n",
    "        output = torch.zeros(batch_size, self.out_channels, height-self.kernel_size+1, width-self.kernel_size+1)\n",
    "        for bs in range(batch_size):\n",
    "            for o in range(self.out_channels):\n",
    "                for ih in range(height-self.kernel_size+1):\n",
    "                    for iw in range(width-self.kernel_size+1):\n",
    "                        conv_sum = 0\n",
    "                        for kw in range(self.kernel_size):\n",
    "                            for kh in range(self.kernel_size):\n",
    "                                for i in range(input_channels):                                    \n",
    "                                    conv_sum += x[bs, i, ih+kh, iw+kw] * self.filter[o, i, kh, kw]\n",
    "                        output[bs, o, ih, iw] = conv_sum\n",
    "        return output"
   ]
  },
  {
   "cell_type": "code",
   "execution_count": 58,
   "id": "64a0e1c7",
   "metadata": {},
   "outputs": [
    {
     "name": "stdout",
     "output_type": "stream",
     "text": [
      "Input Tensor:\n",
      "tensor([[[[ 0.0517,  1.3953, -0.0726,  1.9710, -0.3444],\n",
      "          [ 0.4345, -0.3989, -0.5222, -0.6885, -0.5144],\n",
      "          [-1.1226, -0.5566,  0.1667,  1.5029, -0.7912],\n",
      "          [ 0.0514,  0.7230,  0.7369,  0.7814,  0.4474],\n",
      "          [-0.0465, -0.9580,  0.3542, -0.0516, -1.4384]]]])\n",
      "\n",
      "Output Tensor:\n",
      "tensor([[[[ 0.1731, -1.7430,  2.2326],\n",
      "          [-2.0145, -4.7812, -2.4830],\n",
      "          [-4.0709, -1.3825,  3.9568]]]], grad_fn=<CopySlices>)\n",
      "\n",
      "F.conv2d Output Tensor:\n",
      "tensor([[[[ 0.1731, -1.7430,  2.2326],\n",
      "          [-2.0145, -4.7812, -2.4830],\n",
      "          [-4.0709, -1.3825,  3.9568]]]])\n"
     ]
    }
   ],
   "source": [
    "# Test the implementation\n",
    "input_tensor = torch.randn(1, 1, 5, 5)  # generate a random input tensor\n",
    "conv_layer = SimpleConvolution(in_channels=1, out_channels=1, kernel_size=3) # create instance of SimpleConvolution\n",
    "# Perform the forward pass with the custom implementation.\n",
    "output_tensor = conv_layer(input_tensor)\n",
    "# Print the input and output of teh Tensor\n",
    "print(\"Input Tensor:\")\n",
    "print(input_tensor)\n",
    "print(\"\\nOutput Tensor:\")\n",
    "print(output_tensor)\n",
    "# Validation against PyTorch's F.conv2d\n",
    "filter_tensor = conv_layer.filter.detach()  # Get the filter from our implementation to use it with F.conv2d\n",
    "output_tensor_F_conv2d = F.conv2d(input_tensor, filter_tensor) \n",
    "# Print validation output\n",
    "print(\"\\nF.conv2d Output Tensor:\")\n",
    "print(output_tensor_F_conv2d)"
   ]
  },
  {
   "cell_type": "markdown",
   "id": "baa1bab1ebb9c024",
   "metadata": {
    "deletable": false,
    "editable": false,
    "nbgrader": {
     "cell_type": "markdown",
     "checksum": "95719a18bba18b922bcbbdfb6cef8758",
     "grade": false,
     "grade_id": "cell-ff1b6001f4e59604",
     "locked": true,
     "schema_version": 3,
     "solution": false,
     "task": false
    }
   },
   "source": [
    "# Task 3: Simple Convolutional Neural Network\n",
    "Alright, now that we have a dataset and a convolutional module, we can try and learn a simple classifier network and training loop, that \n",
    "will help us perfectly classifiy the shapes (in this task, should your own implementation not work, you are allowed to use pre-implemented versions, but how cool would it be if your own operations did the job -- but you probably will want to have more than one filter to learn).\n",
    "\n",
    "You might find pooling operations helpful, but you can also try without them. \n",
    "\n",
    "**ATTENTION** you will need to comment the train call before submission otherwise this will result in a timeout during auto-grading and fail you! Don't make me manually grade you! "
   ]
  },
  {
   "cell_type": "code",
   "execution_count": 59,
   "id": "248e7bf9fc702afe",
   "metadata": {
    "ExecuteTime": {
     "end_time": "2024-06-07T13:05:51.466566Z",
     "start_time": "2024-06-07T13:05:51.453573Z"
    },
    "deletable": false,
    "nbgrader": {
     "cell_type": "code",
     "checksum": "56663861d601b21100efa7da08013544",
     "grade": false,
     "grade_id": "cell-4635edce818e49be",
     "locked": false,
     "schema_version": 3,
     "solution": true,
     "task": false
    }
   },
   "outputs": [],
   "source": [
    "import torch\n",
    "import torch.nn as nn\n",
    "\n",
    "\n",
    "class SimpleCNN(nn.Module):\n",
    "    def __init__(self, num_classes, kernel_size):\n",
    "        super(SimpleCNN, self).__init__()\n",
    "        # input is 1 x 9 x 9\n",
    "        self.conv_layer = SimpleConvolution(in_channels=1, out_channels=32, kernel_size=kernel_size)\n",
    "        # state size 16 x 7 x 7\n",
    "        self.relu = nn.ReLU()\n",
    "        self.pool = nn.MaxPool2d(kernel_size=(2, 2), stride=(2, 2), padding=1)\n",
    "        # state size 16 x 4 x 4\n",
    "\n",
    "        linear_in_features = 32 * 4 * 4\n",
    "        self.linear = nn.Linear(in_features=linear_in_features, out_features=num_classes)\n",
    "        # self.softmax = nn.Softmax(dim=1)\n",
    "\n",
    "    def forward(self, x):\n",
    "        x = self.conv_layer(x)\n",
    "        x = self.relu(x)\n",
    "        x = self.pool(x)\n",
    "\n",
    "        x = torch.flatten(x, start_dim=1)\n",
    "        x = self.linear(x)\n",
    "        # x = self.softmax(x)\n",
    "        return x\n",
    "\n",
    "    def predict(self, x):\n",
    "        # hint:\n",
    "        # think about why this function is here and what output your forward should have\n",
    "        # -- you won't use the predict during your training loop though!\n",
    "        return torch.argmax(self.forward(x), dim=1)\n"
   ]
  },
  {
   "cell_type": "code",
   "execution_count": 60,
   "id": "4dac95d8ed4a5659",
   "metadata": {
    "ExecuteTime": {
     "end_time": "2024-06-07T13:05:51.494864Z",
     "start_time": "2024-06-07T13:05:51.485820Z"
    },
    "deletable": false,
    "nbgrader": {
     "cell_type": "code",
     "checksum": "32c3adf6a90f4e58c457982a0e176779",
     "grade": false,
     "grade_id": "cell-0a356050a9ec60d1",
     "locked": false,
     "schema_version": 3,
     "solution": true,
     "task": false
    }
   },
   "outputs": [],
   "source": [
    "from torch import optim\n",
    "\n",
    "\n",
    "def train(model, train_loader, criterion, optimizer, num_epochs=10, frequence=10):\n",
    "    model.train()\n",
    "\n",
    "    for epoch in range(num_epochs):\n",
    "        total_loss = 0\n",
    "\n",
    "        for X, y in train_loader:\n",
    "            # y = y.type(torch.LongTensor)\n",
    "            optimizer.zero_grad()\n",
    "            y_hat = model.forward(X)\n",
    "            loss = criterion(y_hat, y)\n",
    "            loss.backward()\n",
    "            optimizer.step()\n",
    "\n",
    "            total_loss += loss\n",
    "\n",
    "        # print(f'Epoch {epoch} Loss: {loss.item()}')\n",
    "        if (epoch+1) % frequence == 0:\n",
    "            print(f'Epoch {epoch+1}, Loss: {total_loss / len(train_loader)}')\n"
   ]
  },
  {
   "cell_type": "code",
   "execution_count": 61,
   "id": "b1ae89d6fa069f5b",
   "metadata": {
    "ExecuteTime": {
     "end_time": "2024-06-07T13:05:52.912018Z",
     "start_time": "2024-06-07T13:05:51.495828Z"
    },
    "deletable": false,
    "nbgrader": {
     "cell_type": "code",
     "checksum": "b0ca90f97a9114818bb1be90337ecd8f",
     "grade": false,
     "grade_id": "cell-8076b432739be8d9",
     "locked": false,
     "schema_version": 3,
     "solution": true,
     "task": false
    }
   },
   "outputs": [
    {
     "name": "stdout",
     "output_type": "stream",
     "text": [
      "CUDA:  False\n",
      "Epoch 5, Loss: 1.0197556018829346\n",
      "Epoch 10, Loss: 0.7089032530784607\n"
     ]
    }
   ],
   "source": [
    "model = SimpleCNN(4, 3)\n",
    "device = torch.device(\"cuda\" if torch.cuda.is_available() else \"cpu\")\n",
    "print(\"CUDA: \", torch.cuda.is_available())\n",
    "model.to(device)\n",
    "criterion = nn.CrossEntropyLoss()\n",
    "optimizer = optim.Adam(model.parameters(), lr=0.001)\n",
    "dataset = ShapeDataset(40)  # notice, that the length is in our simulated case only relevant for how many \"epochs\" the data loader will run\n",
    "trainloader = DataLoader(dataset, batch_size=10, shuffle=True)\n",
    "\n",
    "\n",
    "train(\n",
    "    model=model,\n",
    "    train_loader=trainloader,\n",
    "    criterion=criterion,\n",
    "    optimizer=optimizer,\n",
    "    num_epochs=40,\n",
    "    frequence=5\n",
    ")"
   ]
  },
  {
   "cell_type": "code",
   "execution_count": null,
   "id": "ccd57582bb1dffad",
   "metadata": {
    "ExecuteTime": {
     "end_time": "2024-06-07T13:05:52.931254Z",
     "start_time": "2024-06-07T13:05:52.915535Z"
    },
    "deletable": false,
    "editable": false,
    "nbgrader": {
     "cell_type": "code",
     "checksum": "331399adab7a05b0fc161f54bbfdcb98",
     "grade": true,
     "grade_id": "cell-59b8be29032a294b",
     "locked": true,
     "points": 3,
     "schema_version": 3,
     "solution": false,
     "task": false
    }
   },
   "outputs": [],
   "source": []
  },
  {
   "cell_type": "markdown",
   "id": "ed6cafdaab410733",
   "metadata": {},
   "source": [
    "Let's check if the model did something useful after your training (this part is not graded, but can help you find out what is wrong with your model)."
   ]
  },
  {
   "cell_type": "code",
   "execution_count": null,
   "id": "a61f41be30637bc7",
   "metadata": {
    "ExecuteTime": {
     "end_time": "2024-06-07T13:05:52.939257Z",
     "start_time": "2024-06-07T13:05:52.932031Z"
    },
    "deletable": false,
    "editable": false,
    "nbgrader": {
     "cell_type": "code",
     "checksum": "aacc1d075b61380d72ea5d0ba043bddb",
     "grade": false,
     "grade_id": "cell-4574d6bddef85b7e",
     "locked": true,
     "schema_version": 3,
     "solution": false,
     "task": false
    }
   },
   "outputs": [],
   "source": [
    "def evaluate_model_with_confusion_matrix(model, test_loader):\n",
    "    model.eval()\n",
    "    y_pred = []\n",
    "    y_true = []\n",
    "\n",
    "    with torch.no_grad():\n",
    "        for images, labels in test_loader:\n",
    "            images = images.unsqueeze(1)  # Add channel dimension\n",
    "            outputs = model.predict(images)\n",
    "            y_pred.extend(outputs.numpy())\n",
    "            y_true.extend(labels.numpy())\n",
    "\n",
    "    model.train()\n",
    "    return y_true, y_pred\n"
   ]
  },
  {
   "cell_type": "code",
   "execution_count": null,
   "id": "f2e0fd70ac05ff83",
   "metadata": {
    "ExecuteTime": {
     "end_time": "2024-06-07T13:05:53.121755Z",
     "start_time": "2024-06-07T13:05:52.940112Z"
    },
    "deletable": false,
    "editable": false,
    "nbgrader": {
     "cell_type": "code",
     "checksum": "2d95938d17c7edd94e512d1050b12d76",
     "grade": false,
     "grade_id": "cell-5fc71c2ecb67ab8e",
     "locked": true,
     "schema_version": 3,
     "solution": false,
     "task": false
    }
   },
   "outputs": [
    {
     "data": {
      "image/png": "[encoded data removed]",
      "text/plain": [
       "<Figure size 800x600 with 2 Axes>"
      ]
     },
     "metadata": {},
     "output_type": "display_data"
    }
   ],
   "source": [
    "from sklearn.metrics import confusion_matrix\n",
    "import matplotlib.pyplot as plt\n",
    "import seaborn as sns\n",
    "\n",
    "\n",
    "def plot_confusion_matrix(y_true, y_pred):\n",
    "    cm = confusion_matrix(y_true, y_pred)\n",
    "    plt.figure(figsize=(8, 6))\n",
    "    sns.heatmap(cm, annot=True, fmt=\"d\", cmap='Blues',\n",
    "                xticklabels=['Horizontal', 'Vertical', 'Diagonal', 'L-Shape'],\n",
    "                yticklabels=['Horizontal', 'Vertical', 'Diagonal', 'L-Shape'])\n",
    "    plt.xlabel('Predicted')\n",
    "    plt.ylabel('True')\n",
    "    plt.title('Confusion Matrix')\n",
    "    plt.show()\n",
    "\n",
    "\n",
    "# Use the modified evaluation function\n",
    "test_dataset = ShapeDataset(200)  # Generate a separate dataset for testing\n",
    "test_loader = DataLoader(test_dataset, batch_size=10, shuffle=True)\n",
    "y_true, y_pred = evaluate_model_with_confusion_matrix(model, test_loader)\n",
    "\n",
    "# Plot the confusion matrix\n",
    "plot_confusion_matrix(y_true, y_pred)\n"
   ]
  },
  {
   "cell_type": "markdown",
   "id": "5d22854d8501d25c",
   "metadata": {
    "deletable": false,
    "editable": false,
    "nbgrader": {
     "cell_type": "markdown",
     "checksum": "d10f582fc58232a5a7e09cbb844f6850",
     "grade": false,
     "grade_id": "cell-0d40cbd4ebb0df57",
     "locked": true,
     "schema_version": 3,
     "solution": false,
     "task": false
    }
   },
   "source": [
    "Congratulations to your first successful Neural Network model!"
   ]
  },
  {
   "cell_type": "markdown",
   "id": "e075fa68297b4ed2",
   "metadata": {
    "deletable": false,
    "editable": false,
    "nbgrader": {
     "cell_type": "markdown",
     "checksum": "71b6750622cff2e2a7c3d5c84960658d",
     "grade": false,
     "grade_id": "cell-59a3db036e1f5b9e",
     "locked": true,
     "schema_version": 3,
     "solution": false,
     "task": false
    }
   },
   "source": [
    "# Task 4: A mysterious Network\n",
    "Below you will find an intricate network design and you will have to answer some questions about it, so carefully read the code below and maybe consult the documentation of one or the other function. \n",
    "\n",
    "Hint: while the Conv2d strides with a kernel over the image to extract a feature map, the Conv2dTranspose does the opposite it takes a feature map, and takes a value from the feature map, multiplies it with each value of the kernel respectively and places them into its output tensor. Think of it as taking in a feature map and producing an image. \n",
    "\n",
    "\n"
   ]
  },
  {
   "cell_type": "markdown",
   "id": "58cc934ed6fd8465",
   "metadata": {
    "deletable": false,
    "editable": false,
    "nbgrader": {
     "cell_type": "markdown",
     "checksum": "a15450a6df66110ce419b3d6a09c4d4b",
     "grade": false,
     "grade_id": "cell-1fb7f4d91595e01c",
     "locked": true,
     "schema_version": 3,
     "solution": false,
     "task": false
    }
   },
   "source": [
    "The following plotting function is just a convenience function and can be ignored:) "
   ]
  },
  {
   "cell_type": "code",
   "execution_count": null,
   "id": "608df3682dd0a4ca",
   "metadata": {
    "ExecuteTime": {
     "end_time": "2024-06-07T13:05:53.127136Z",
     "start_time": "2024-06-07T13:05:53.122968Z"
    },
    "deletable": false,
    "editable": false,
    "nbgrader": {
     "cell_type": "code",
     "checksum": "b4f0ca1592edc5ba00319fcdca2463a3",
     "grade": false,
     "grade_id": "cell-41e9ae691b0808cd",
     "locked": true,
     "schema_version": 3,
     "solution": false,
     "task": false
    }
   },
   "outputs": [],
   "source": [
    "import matplotlib.pyplot as plt\n",
    "\n",
    "\n",
    "def plot_tensor_batch(tensor):\n",
    "    # Ensure tensor is CPU tensor and convert to numpy\n",
    "    tensor = tensor.cpu().numpy()\n",
    "\n",
    "    # Determine the number of images\n",
    "    num_images = tensor.shape[0]\n",
    "\n",
    "    # Calculate the number of columns and rows to display\n",
    "    num_cols = int(num_images ** 0.5)\n",
    "    num_rows = (num_images + num_cols - 1) // num_cols\n",
    "\n",
    "    # Set up the plot\n",
    "    fig, axes = plt.subplots(num_rows, num_cols, figsize=(2 * num_cols, 2 * num_rows))\n",
    "    axes = axes.flatten()\n",
    "\n",
    "    # Loop through all the images in the tensor\n",
    "    for i, img in enumerate(tensor):\n",
    "        # Handle grayscale or single channel data\n",
    "        if img.shape[0] == 1:\n",
    "            axes[i].imshow(img[0], cmap='gray', interpolation='none')\n",
    "        else:\n",
    "            # Convert from CHW to HWC format for plotting\n",
    "            img = img.transpose(1, 2, 0)\n",
    "            axes[i].imshow(img, interpolation='none')\n",
    "\n",
    "        axes[i].axis('off')\n",
    "\n",
    "    # Hide unused subplots\n",
    "    for ax in axes[num_images:]:\n",
    "        ax.axis('off')\n",
    "\n",
    "    plt.tight_layout()\n",
    "    plt.show()\n"
   ]
  },
  {
   "cell_type": "code",
   "execution_count": null,
   "id": "d22d703205b8c1cb",
   "metadata": {
    "ExecuteTime": {
     "end_time": "2024-06-07T13:05:53.148482Z",
     "start_time": "2024-06-07T13:05:53.127782Z"
    },
    "deletable": false,
    "editable": false,
    "nbgrader": {
     "cell_type": "code",
     "checksum": "98e409882d963befaa95bc1a379943bc",
     "grade": false,
     "grade_id": "cell-263557193d779856",
     "locked": true,
     "schema_version": 3,
     "solution": false,
     "task": false
    }
   },
   "outputs": [],
   "source": [
    "import torch\n",
    "import torch.nn as nn\n",
    "import torch.optim as optim\n",
    "\n",
    "\n",
    "class G(nn.Module):\n",
    "    def __init__(self):\n",
    "        super(G, self).__init__()\n",
    "        self.layers = nn.Sequential(\n",
    "            # input is Z, going into a convolution\n",
    "            nn.ConvTranspose2d(100, 128, 7, 1, 0, bias=False),\n",
    "            nn.BatchNorm2d(128),\n",
    "            nn.ReLU(True),\n",
    "            # state size. 128 x 7 x 7\n",
    "            nn.ConvTranspose2d(128, 64, 4, 2, 1, bias=False),\n",
    "            nn.BatchNorm2d(64),\n",
    "            nn.ReLU(True),\n",
    "            # state size. 64 x 14 x 14\n",
    "            nn.ConvTranspose2d(64, 1, 4, 2, 1, bias=False),\n",
    "            nn.Tanh()\n",
    "            # state size. 1 x 28 x 28\n",
    "        )\n",
    "\n",
    "    def forward(self, input):\n",
    "        return self.layers(input)\n",
    "\n",
    "\n",
    "class D(nn.Module):\n",
    "    def __init__(self):\n",
    "        super(D, self).__init__()\n",
    "        self.layers = nn.Sequential(\n",
    "            # input is (1 x 28 x 28)\n",
    "            nn.Conv2d(1, 64, 4, 2, 1, bias=False),\n",
    "            nn.LeakyReLU(0.2, inplace=True),\n",
    "            # state size. 64 x 14 x 14\n",
    "            nn.Conv2d(64, 128, 4, 2, 1, bias=False),\n",
    "            nn.BatchNorm2d(128),\n",
    "            nn.LeakyReLU(0.2, inplace=True),\n",
    "            # state size. 128 x 7 x 7\n",
    "            nn.Flatten(),\n",
    "            nn.Linear(128 * 7 * 7, 1),\n",
    "            nn.Sigmoid()\n",
    "        )\n",
    "\n",
    "    def forward(self, input):\n",
    "        return self.layers(input)"
   ]
  },
  {
   "cell_type": "code",
   "execution_count": null,
   "id": "c9db86a6990f1664",
   "metadata": {
    "ExecuteTime": {
     "end_time": "2024-06-07T13:05:53.382833Z",
     "start_time": "2024-06-07T13:05:53.149297Z"
    },
    "deletable": false,
    "editable": false,
    "nbgrader": {
     "cell_type": "code",
     "checksum": "bec7a5dd9bb7cbd8e05d425199f10b43",
     "grade": false,
     "grade_id": "cell-2aa7523150a06359",
     "locked": true,
     "schema_version": 3,
     "solution": false,
     "task": false
    }
   },
   "outputs": [
    {
     "data": {
      "image/png": "[encoded data removed]",
      "text/plain": [
       "<Figure size 200x400 with 2 Axes>"
      ]
     },
     "metadata": {},
     "output_type": "display_data"
    }
   ],
   "source": [
    "# example usage of g\n",
    "g = G()\n",
    "vec = torch.randn(2, 100, 1, 1)\n",
    "new_image = g(vec)\n",
    "\n",
    "plot_tensor_batch(new_image.detach())\n",
    "\n"
   ]
  },
  {
   "cell_type": "code",
   "execution_count": null,
   "id": "e2133e96c172fe1e",
   "metadata": {
    "ExecuteTime": {
     "end_time": "2024-06-07T13:05:53.389049Z",
     "start_time": "2024-06-07T13:05:53.383595Z"
    },
    "deletable": false,
    "editable": false,
    "nbgrader": {
     "cell_type": "code",
     "checksum": "5ecd0dcbbb8917869060dd81fd8a7ad9",
     "grade": false,
     "grade_id": "cell-627c94770d7c7e21",
     "locked": true,
     "schema_version": 3,
     "solution": false,
     "task": false
    }
   },
   "outputs": [
    {
     "name": "stdout",
     "output_type": "stream",
     "text": [
      "tensor([[0.5406],\n",
      "        [0.3592]], grad_fn=<SigmoidBackward0>)\n"
     ]
    }
   ],
   "source": [
    "# example usage of d\n",
    "d = D()\n",
    "img = torch.randn(2, 1, 28, 28)\n",
    "output = d(img)\n",
    "print(output)"
   ]
  },
  {
   "cell_type": "markdown",
   "id": "929a2c354337a93d",
   "metadata": {
    "deletable": false,
    "editable": false,
    "nbgrader": {
     "cell_type": "markdown",
     "checksum": "e15a4ee1a82211f386c6898b32545161",
     "grade": false,
     "grade_id": "cell-7a2ab576ec2d357f",
     "locked": true,
     "schema_version": 3,
     "solution": false,
     "task": false
    }
   },
   "source": [
    "Here we will just quickly collect the MNIST dataset. It comprises of 28x28 images of handwritten digits from 0 to 9."
   ]
  },
  {
   "cell_type": "code",
   "execution_count": null,
   "id": "76dd6df28786099",
   "metadata": {
    "ExecuteTime": {
     "end_time": "2024-06-07T13:05:53.496199Z",
     "start_time": "2024-06-07T13:05:53.389882Z"
    },
    "deletable": false,
    "editable": false,
    "nbgrader": {
     "cell_type": "code",
     "checksum": "b7ae7e0aebcd01322b99c5cf71190518",
     "grade": false,
     "grade_id": "cell-1de49a5824f7febf",
     "locked": true,
     "schema_version": 3,
     "solution": false,
     "task": false
    }
   },
   "outputs": [
    {
     "ename": "ModuleNotFoundError",
     "evalue": "No module named 'torchvision'",
     "output_type": "error",
     "traceback": [
      "\u001b[1;31m---------------------------------------------------------------------------\u001b[0m",
      "\u001b[1;31mModuleNotFoundError\u001b[0m                       Traceback (most recent call last)",
      "Cell \u001b[1;32mIn[36], line 2\u001b[0m\n\u001b[0;32m      1\u001b[0m \u001b[38;5;28;01mfrom\u001b[39;00m \u001b[38;5;21;01mtorch\u001b[39;00m\u001b[38;5;21;01m.\u001b[39;00m\u001b[38;5;21;01mutils\u001b[39;00m\u001b[38;5;21;01m.\u001b[39;00m\u001b[38;5;21;01mdata\u001b[39;00m \u001b[38;5;28;01mimport\u001b[39;00m DataLoader\n\u001b[1;32m----> 2\u001b[0m \u001b[38;5;28;01mfrom\u001b[39;00m \u001b[38;5;21;01mtorchvision\u001b[39;00m \u001b[38;5;28;01mimport\u001b[39;00m datasets, transforms\n\u001b[0;32m      4\u001b[0m \u001b[38;5;66;03m# Load MNIST dataset\u001b[39;00m\n\u001b[0;32m      5\u001b[0m transform \u001b[38;5;241m=\u001b[39m transforms\u001b[38;5;241m.\u001b[39mCompose([\n\u001b[0;32m      6\u001b[0m     transforms\u001b[38;5;241m.\u001b[39mToTensor(),\n\u001b[0;32m      7\u001b[0m     transforms\u001b[38;5;241m.\u001b[39mNormalize((\u001b[38;5;241m0.5\u001b[39m,), (\u001b[38;5;241m0.5\u001b[39m,))\n\u001b[0;32m      8\u001b[0m ])\n",
      "\u001b[1;31mModuleNotFoundError\u001b[0m: No module named 'torchvision'"
     ]
    }
   ],
   "source": [
    "from torch.utils.data import DataLoader\n",
    "from torchvision import datasets, transforms\n",
    "\n",
    "# Load MNIST dataset\n",
    "transform = transforms.Compose([\n",
    "    transforms.ToTensor(),\n",
    "    transforms.Normalize((0.5,), (0.5,))\n",
    "])\n",
    "train_data = datasets.MNIST(root='./data', train=True, download=False, transform=transform)\n",
    "dataloader = DataLoader(train_data, batch_size=64, shuffle=True)"
   ]
  },
  {
   "cell_type": "code",
   "execution_count": null,
   "id": "668dc821b9887608",
   "metadata": {
    "ExecuteTime": {
     "end_time": "2024-06-07T13:05:56.545572Z",
     "start_time": "2024-06-07T13:05:53.497379Z"
    },
    "deletable": false,
    "editable": false,
    "nbgrader": {
     "cell_type": "code",
     "checksum": "1e02a288f2c1a42965d243355059ffe5",
     "grade": false,
     "grade_id": "cell-b197b3e6221d12b8",
     "locked": true,
     "schema_version": 3,
     "solution": false,
     "task": false
    }
   },
   "outputs": [],
   "source": [
    "plot_tensor_batch(next(iter(dataloader))[0])"
   ]
  },
  {
   "cell_type": "markdown",
   "id": "bf98971366bcacd8",
   "metadata": {
    "deletable": false,
    "editable": false,
    "nbgrader": {
     "cell_type": "markdown",
     "checksum": "dddd33bf09db1b0652b236828ddb3542",
     "grade": false,
     "grade_id": "cell-b7e36999ac96eab8",
     "locked": true,
     "schema_version": 3,
     "solution": false,
     "task": false
    }
   },
   "source": [
    "And here comes the intricate wiring of the two networks in their training loop:"
   ]
  },
  {
   "cell_type": "code",
   "execution_count": null,
   "id": "dccd6ed516a18fa5",
   "metadata": {
    "ExecuteTime": {
     "end_time": "2024-06-07T13:05:56.552043Z",
     "start_time": "2024-06-07T13:05:56.547871Z"
    }
   },
   "outputs": [],
   "source": [
    "num_epochs = 0  # PLEASE MAKE SURE TO RESET THE VALUE TO ZERO BEFORE SUBMISSION or the autograding might fail you!\n",
    "# but during this task, you may want to look what this training loop does for you. A value of 50 might already give you a descent idea in a reasonable time :) "
   ]
  },
  {
   "cell_type": "code",
   "execution_count": null,
   "id": "eb32b3d2a19b181",
   "metadata": {
    "ExecuteTime": {
     "end_time": "2024-06-07T13:05:56.584013Z",
     "start_time": "2024-06-07T13:05:56.553166Z"
    },
    "deletable": false,
    "editable": false,
    "nbgrader": {
     "cell_type": "code",
     "checksum": "3a3907ab72a52119fbd11f2e483a2699",
     "grade": false,
     "grade_id": "cell-1ff6aca022cf3d37",
     "locked": true,
     "schema_version": 3,
     "solution": false,
     "task": false
    }
   },
   "outputs": [],
   "source": [
    "# Initialize models\n",
    "g = G()\n",
    "d = D()\n",
    "\n",
    "# Loss and optimizer\n",
    "criterion = nn.BCELoss()\n",
    "lr = 0.0002\n",
    "optimizerG = optim.Adam(g.parameters(), lr=lr, betas=(0.5, 0.999))\n",
    "optimizerD = optim.Adam(d.parameters(), lr=lr, betas=(0.5, 0.999))\n",
    "\n",
    "# Training loop\n",
    "for epoch in range(num_epochs):\n",
    "    for i, (real_images, _) in enumerate(dataloader):\n",
    "        # Update d\n",
    "        optimizerD.zero_grad()\n",
    "        real_labels = torch.ones(real_images.size(0), 1)\n",
    "        real_output = d(real_images)\n",
    "        real_loss = criterion(real_output, real_labels)\n",
    "\n",
    "        noise = torch.randn(real_images.size(0), 100, 1, 1)\n",
    "        fake_images = g(noise)\n",
    "        fake_labels = torch.zeros(real_images.size(0), 1)\n",
    "        fake_output = d(fake_images.detach())\n",
    "        fake_loss = criterion(fake_output, fake_labels)\n",
    "\n",
    "        d_loss = real_loss + fake_loss\n",
    "        d_loss.backward()\n",
    "        optimizerD.step()\n",
    "\n",
    "        # Update g\n",
    "        optimizerG.zero_grad()\n",
    "        fake_output = d(fake_images)\n",
    "        g_loss = criterion(fake_output, real_labels)  # Trick  d\n",
    "        g_loss.backward()\n",
    "        optimizerG.step()\n",
    "\n",
    "    print(f'Epoch [{epoch + 1}/{num_epochs}], Loss D: {d_loss.item()}, Loss G: {g_loss.item()}')\n",
    "\n"
   ]
  },
  {
   "cell_type": "code",
   "execution_count": null,
   "id": "5353b47136e3b2f5",
   "metadata": {
    "ExecuteTime": {
     "end_time": "2024-06-07T13:05:56.592675Z",
     "start_time": "2024-06-07T13:05:56.585016Z"
    }
   },
   "outputs": [],
   "source": [
    "torch.save(g.state_dict(), 'g.pth')\n",
    "torch.save(d.state_dict(), 'd.pth')\n",
    "# this way you can also load the model states back in later"
   ]
  },
  {
   "cell_type": "code",
   "execution_count": null,
   "id": "1bb45443299d9ff6",
   "metadata": {
    "ExecuteTime": {
     "end_time": "2024-06-07T13:05:56.607690Z",
     "start_time": "2024-06-07T13:05:56.593363Z"
    }
   },
   "outputs": [],
   "source": [
    "if False:\n",
    "    g.load_state_dict(torch.load('g.pth'))\n",
    "    d.load_state_dict(torch.load('d.pth'))\n"
   ]
  },
  {
   "cell_type": "code",
   "execution_count": null,
   "id": "7844334531122dd7",
   "metadata": {
    "ExecuteTime": {
     "end_time": "2024-06-07T13:05:56.622566Z",
     "start_time": "2024-06-07T13:05:56.608763Z"
    }
   },
   "outputs": [],
   "source": [
    "# checking out new data from g\n",
    "with torch.no_grad():\n",
    "    test_noise = torch.randn(10, 100, 1, 1)\n",
    "    new_images = g(test_noise)\n"
   ]
  },
  {
   "cell_type": "code",
   "execution_count": null,
   "id": "437a7e743db5c131",
   "metadata": {
    "ExecuteTime": {
     "end_time": "2024-06-07T13:05:57.192229Z",
     "start_time": "2024-06-07T13:05:56.623634Z"
    },
    "deletable": false,
    "editable": false,
    "nbgrader": {
     "cell_type": "code",
     "checksum": "f7d9ede553688acc215d38d5c8c78704",
     "grade": false,
     "grade_id": "cell-f6a033667ea87f8e",
     "locked": true,
     "schema_version": 3,
     "solution": false,
     "task": false
    }
   },
   "outputs": [],
   "source": [
    "plot_tensor_batch(new_images)"
   ]
  },
  {
   "cell_type": "markdown",
   "id": "7f5366bb6b9bf804",
   "metadata": {
    "deletable": false,
    "editable": false,
    "nbgrader": {
     "cell_type": "markdown",
     "checksum": "2294756607ebe735f83730f2ae815d79",
     "grade": false,
     "grade_id": "cell-aba45fa2af73489c",
     "locked": true,
     "schema_version": 3,
     "solution": false,
     "task": false
    }
   },
   "source": [
    "Now please answer the following questions, giving all the right answer(s). (e.g. if A and B are correct: answer = set([\"A\", \"B\"]))"
   ]
  },
  {
   "cell_type": "markdown",
   "id": "c349e4942959b63e",
   "metadata": {
    "deletable": false,
    "editable": false,
    "nbgrader": {
     "cell_type": "markdown",
     "checksum": "eca6011784ce5ab17185ba7e450f06b0",
     "grade": false,
     "grade_id": "cell-5462414d476b4621",
     "locked": true,
     "schema_version": 3,
     "solution": false,
     "task": false
    }
   },
   "source": [
    "**What does the nn.Tanh() activation function in the generator's final layer do to the output images?**\n",
    "\n",
    "A) Scales the output values to the range [0, 1]\n",
    "\n",
    "B) Scales the output values to the range [-1, 1]\n",
    "\n",
    "C) Applies a threshold to the output values\n",
    "\n",
    "D) Normalizes the output values to have zero mean"
   ]
  },
  {
   "cell_type": "code",
   "execution_count": null,
   "id": "fd5d2bfd291a05ea",
   "metadata": {
    "ExecuteTime": {
     "end_time": "2024-06-07T13:05:57.195272Z",
     "start_time": "2024-06-07T13:05:57.193437Z"
    },
    "deletable": false,
    "nbgrader": {
     "cell_type": "code",
     "checksum": "8aa8499392fda26cfb5758ce66db3a71",
     "grade": false,
     "grade_id": "cell-44636dd09dda71a8",
     "locked": false,
     "schema_version": 3,
     "solution": true,
     "task": false
    }
   },
   "outputs": [],
   "source": [
    "answer = \"B\""
   ]
  },
  {
   "cell_type": "code",
   "execution_count": null,
   "id": "18aa120212ad852e",
   "metadata": {
    "ExecuteTime": {
     "end_time": "2024-06-07T13:05:57.219249Z",
     "start_time": "2024-06-07T13:05:57.196023Z"
    },
    "deletable": false,
    "editable": false,
    "nbgrader": {
     "cell_type": "code",
     "checksum": "0c317b47582ef267351c8e956dbeb6c2",
     "grade": true,
     "grade_id": "cell-3d4c22b2cf4f2ffb",
     "locked": true,
     "points": 0.5,
     "schema_version": 3,
     "solution": false,
     "task": false
    }
   },
   "outputs": [],
   "source": []
  },
  {
   "cell_type": "markdown",
   "id": "1fb7d9b25e58e4d5",
   "metadata": {
    "deletable": false,
    "editable": false,
    "nbgrader": {
     "cell_type": "markdown",
     "checksum": "895d9f6de2880328434908d7e95c9133",
     "grade": false,
     "grade_id": "cell-5a8dfd6c637a49f2",
     "locked": true,
     "schema_version": 3,
     "solution": false,
     "task": false
    }
   },
   "source": [
    "**What is the purpose of detaching the fake images before passing them to the d during its update?**\n",
    "\n",
    "\n",
    "A) To allow the g to receive gradients\n",
    "\n",
    "B) To ensure the g's parameters are updated\n",
    "\n",
    "C) To prevent the gradients from flowing back to the g during the d's update\n",
    "\n",
    "D) To reduce the computational load\n",
    "\n"
   ]
  },
  {
   "cell_type": "code",
   "execution_count": null,
   "id": "a787e4a7919c97b8",
   "metadata": {
    "ExecuteTime": {
     "end_time": "2024-06-07T13:05:57.235197Z",
     "start_time": "2024-06-07T13:05:57.220087Z"
    },
    "deletable": false,
    "nbgrader": {
     "cell_type": "code",
     "checksum": "d9911b059bad4f13486b62684bc1a009",
     "grade": false,
     "grade_id": "cell-88bcb9fd5e007e80",
     "locked": false,
     "schema_version": 3,
     "solution": true,
     "task": false
    }
   },
   "outputs": [],
   "source": [
    "answer = \"C\""
   ]
  },
  {
   "cell_type": "code",
   "execution_count": null,
   "id": "dc219f02362e3915",
   "metadata": {
    "ExecuteTime": {
     "end_time": "2024-06-07T13:05:57.246283Z",
     "start_time": "2024-06-07T13:05:57.236064Z"
    },
    "deletable": false,
    "editable": false,
    "nbgrader": {
     "cell_type": "code",
     "checksum": "d7c239c85a81864dd7681e4f9c283319",
     "grade": true,
     "grade_id": "cell-bc241e37632e7b6f",
     "locked": true,
     "points": 0.5,
     "schema_version": 3,
     "solution": false,
     "task": false
    }
   },
   "outputs": [],
   "source": []
  },
  {
   "cell_type": "markdown",
   "id": "d1291328237ecf7d",
   "metadata": {
    "deletable": false,
    "editable": false,
    "nbgrader": {
     "cell_type": "markdown",
     "checksum": "ca98a2a552f71fa514ad1bbc3b0e372d",
     "grade": false,
     "grade_id": "cell-704a8346948f73f3",
     "locked": true,
     "schema_version": 3,
     "solution": false,
     "task": false
    }
   },
   "source": [
    "**Why do we update the d network with real and fake images separately?**\n",
    "\n",
    "A) To ensure the g does not overfit\n",
    "\n",
    "B) To reduce the training time\n",
    "\n",
    "C) To provide the d with balanced examples of real and fake images\n",
    "\n",
    "D) To increase the complexity of the model"
   ]
  },
  {
   "cell_type": "code",
   "execution_count": null,
   "id": "ca496d8cd9d3aee3",
   "metadata": {
    "ExecuteTime": {
     "end_time": "2024-06-07T13:05:57.257611Z",
     "start_time": "2024-06-07T13:05:57.247506Z"
    },
    "deletable": false,
    "nbgrader": {
     "cell_type": "code",
     "checksum": "c8b564fb8abc848f3d2dec9a71f5e859",
     "grade": false,
     "grade_id": "cell-306797fe1e7c000e",
     "locked": false,
     "schema_version": 3,
     "solution": true,
     "task": false
    }
   },
   "outputs": [],
   "source": [
    "answer = \"C\""
   ]
  },
  {
   "cell_type": "code",
   "execution_count": null,
   "id": "1c770523a10c59a1",
   "metadata": {
    "ExecuteTime": {
     "end_time": "2024-06-07T13:05:57.269245Z",
     "start_time": "2024-06-07T13:05:57.258629Z"
    },
    "deletable": false,
    "editable": false,
    "nbgrader": {
     "cell_type": "code",
     "checksum": "42047f5e28ec86f96559a49efa38c9d8",
     "grade": true,
     "grade_id": "cell-1a2259061b19178e",
     "locked": true,
     "points": 1,
     "schema_version": 3,
     "solution": false,
     "task": false
    }
   },
   "outputs": [],
   "source": []
  },
  {
   "cell_type": "markdown",
   "id": "339c4df70b0dd7e2",
   "metadata": {
    "deletable": false,
    "editable": false,
    "nbgrader": {
     "cell_type": "markdown",
     "checksum": "cdc2dd7a6e2a58444f596eb3fb81b789",
     "grade": false,
     "grade_id": "cell-aef826b9c9c3f0e9",
     "locked": true,
     "schema_version": 3,
     "solution": false,
     "task": false
    }
   },
   "source": [
    "**What is the ultimate goal of this training procedure?**\n",
    "\n",
    "A) To classify images and distinguish between real and fake images\n",
    "\n",
    "B) To generate realistic MNIST digit images\n",
    "\n",
    "C) To reduce the size of the MNIST dataset\n",
    "\n",
    "D) To improve the accuracy of the MNIST d network\n",
    "\n"
   ]
  },
  {
   "cell_type": "code",
   "execution_count": null,
   "id": "b5cca29d726f5ff2",
   "metadata": {
    "ExecuteTime": {
     "end_time": "2024-06-07T13:05:57.280303Z",
     "start_time": "2024-06-07T13:05:57.270191Z"
    },
    "deletable": false,
    "nbgrader": {
     "cell_type": "code",
     "checksum": "1ad2b65e66c397e1d49ea18e27d1e596",
     "grade": false,
     "grade_id": "cell-2962901c0e897b24",
     "locked": false,
     "schema_version": 3,
     "solution": true,
     "task": false
    }
   },
   "outputs": [],
   "source": [
    "answer = \"A\""
   ]
  },
  {
   "cell_type": "code",
   "execution_count": null,
   "id": "72a16de714c806ae",
   "metadata": {
    "ExecuteTime": {
     "end_time": "2024-06-07T13:05:57.291606Z",
     "start_time": "2024-06-07T13:05:57.281258Z"
    },
    "deletable": false,
    "editable": false,
    "nbgrader": {
     "cell_type": "code",
     "checksum": "a1ab8e23e4dd051a1cad081e8493cda2",
     "grade": true,
     "grade_id": "cell-795fe5fa16d8e253",
     "locked": true,
     "points": 2,
     "schema_version": 3,
     "solution": false,
     "task": false
    }
   },
   "outputs": [],
   "source": []
  },
  {
   "cell_type": "markdown",
   "id": "d6e4c8cf23d1e57c",
   "metadata": {
    "deletable": false,
    "editable": false,
    "nbgrader": {
     "cell_type": "markdown",
     "checksum": "f2ad634113a9b2b23ffd2e8e3420e5d8",
     "grade": false,
     "grade_id": "cell-8ad6488fca8ee672",
     "locked": true,
     "schema_version": 3,
     "solution": false,
     "task": false
    }
   },
   "source": [
    "**Why is it important for the g to \"trick\" the d?**\n",
    "\n",
    "A) To ensure the d performs well on real images\n",
    "\n",
    "B) To make the training process faster and more efficient\n",
    "\n",
    "C) To make the d more robust against adversarial attacks\n",
    "\n",
    "D) To improve the quality of the new images so they become indistinguishable from real images\n"
   ]
  },
  {
   "cell_type": "code",
   "execution_count": null,
   "id": "3d9f10fa96939b7d",
   "metadata": {
    "ExecuteTime": {
     "end_time": "2024-06-07T13:05:57.303200Z",
     "start_time": "2024-06-07T13:05:57.292597Z"
    },
    "deletable": false,
    "nbgrader": {
     "cell_type": "code",
     "checksum": "851a574f8b54c057ac528b1939f24bb1",
     "grade": false,
     "grade_id": "cell-63de787ff829c625",
     "locked": false,
     "schema_version": 3,
     "solution": true,
     "task": false
    }
   },
   "outputs": [],
   "source": [
    "answer = \"C\""
   ]
  },
  {
   "cell_type": "code",
   "execution_count": null,
   "id": "454e1d687f06deef",
   "metadata": {
    "ExecuteTime": {
     "end_time": "2024-06-07T13:05:57.313485Z",
     "start_time": "2024-06-07T13:05:57.304142Z"
    },
    "deletable": false,
    "editable": false,
    "nbgrader": {
     "cell_type": "code",
     "checksum": "3a841668540aa9d0f0c0641b9ef40949",
     "grade": true,
     "grade_id": "cell-00384b171b53e2d7",
     "locked": true,
     "points": 2,
     "schema_version": 3,
     "solution": false,
     "task": false
    }
   },
   "outputs": [],
   "source": []
  },
  {
   "cell_type": "markdown",
   "id": "f177304cdc63cc1c",
   "metadata": {},
   "source": [
    "**Which of the following use cases could be application cases of a modified vesion of the architecture?**\n",
    "\n",
    "A) Creating realistic photographs of people who don't exist\n",
    "\n",
    "B) Predicting house prices based on historical sales data\n",
    "\n",
    "C) Image-to-image translation, such as turning a photograph into a painting\n",
    "\n",
    "D) Classifying emails as spam or not spam\n",
    "\n",
    "E) Generating high-resolution images from low-resolution inputs (super-resolution)\n",
    "\n",
    "F) Clustering customer data for market segmentation\n",
    "    \n",
    "G) Text-to-image synthesis, such as generating images from textual descriptions\n",
    "\n",
    "H) Generating synthetic medical images for training purposes\n",
    "\n",
    "I) Predicting stock market trends based on past data\n",
    "\n",
    "J) Voice conversion to make one person's voice sound like another's"
   ]
  },
  {
   "cell_type": "code",
   "execution_count": null,
   "id": "c896e729fec096b1",
   "metadata": {
    "ExecuteTime": {
     "end_time": "2024-06-07T13:05:57.324821Z",
     "start_time": "2024-06-07T13:05:57.314146Z"
    },
    "deletable": false,
    "nbgrader": {
     "cell_type": "code",
     "checksum": "8028522532603fb3b9d778ce5f1c3b53",
     "grade": false,
     "grade_id": "cell-a113e9a42c3c9400",
     "locked": false,
     "schema_version": 3,
     "solution": true,
     "task": false
    }
   },
   "outputs": [],
   "source": [
    "answer = [\"C\", \"E\", \"H\"]"
   ]
  },
  {
   "cell_type": "code",
   "execution_count": null,
   "id": "7f1b58ca7b923632",
   "metadata": {
    "ExecuteTime": {
     "end_time": "2024-06-07T13:05:57.335599Z",
     "start_time": "2024-06-07T13:05:57.325555Z"
    },
    "deletable": false,
    "editable": false,
    "nbgrader": {
     "cell_type": "code",
     "checksum": "47cbb6a58bb514b82db94f1ff34c74d2",
     "grade": true,
     "grade_id": "cell-f4df809e93d37a04",
     "locked": true,
     "points": 2,
     "schema_version": 3,
     "solution": false,
     "task": false
    }
   },
   "outputs": [],
   "source": []
  },
  {
   "cell_type": "code",
   "execution_count": null,
   "id": "94d3df0e",
   "metadata": {
    "deletable": false,
    "editable": false,
    "nbgrader": {
     "cell_type": "code",
     "checksum": "cdbc55ad6d82b3746164ca9c625fa56b",
     "grade": true,
     "grade_id": "cell-5c54728a6bf8c6d8",
     "locked": true,
     "points": 1,
     "schema_version": 3,
     "solution": false,
     "task": false
    }
   },
   "outputs": [],
   "source": []
  },
  {
   "cell_type": "markdown",
   "id": "90fbd39f272e294",
   "metadata": {},
   "source": [
    "# Task 5: Classification metrics\n",
    "Take a look at the following confusion matrix. And compute the following metrics:\n",
    "\n",
    "![Confusion](confusion.jpg)\n"
   ]
  },
  {
   "cell_type": "code",
   "execution_count": null,
   "id": "b41024cd340a8f7b",
   "metadata": {
    "ExecuteTime": {
     "end_time": "2024-06-07T13:05:57.346479Z",
     "start_time": "2024-06-07T13:05:57.336321Z"
    },
    "deletable": false,
    "nbgrader": {
     "cell_type": "code",
     "checksum": "d30c5132aa295872859a72ac0cfbe497",
     "grade": false,
     "grade_id": "cell-3a1ac19450bc0780",
     "locked": false,
     "schema_version": 3,
     "solution": true,
     "task": false
    }
   },
   "outputs": [],
   "source": [
    "true_positives = 60 # = 20 + 15 + 25 \n",
    "false_positives_A  = 7 # = 5 + 2\n",
    "accuracy = 60 / 74 # = (20 + 15 + 25) / (20 + 15 + 25 + 5 + 2 + 3 + 1 + 1 +2)\n",
    "precision_B = 15/19 # = 15/(15+4)"
   ]
  },
  {
   "cell_type": "markdown",
   "id": "3228224e",
   "metadata": {},
   "source": [
    "true_positives = 20 + 15 + 25 = 60\n",
    "false_positives_A = 5 + 2 = 7\n",
    "accuracy = (20 + 15 + 25) / ()\n",
    "true_positives_B = 15\n",
    "false_positives_B = 4\n",
    "precision_B = 15/(15+4) = 15/19"
   ]
  },
  {
   "cell_type": "code",
   "execution_count": null,
   "id": "9cb09b66c4783dc0",
   "metadata": {
    "ExecuteTime": {
     "end_time": "2024-06-07T13:05:57.357309Z",
     "start_time": "2024-06-07T13:05:57.347174Z"
    },
    "deletable": false,
    "editable": false,
    "nbgrader": {
     "cell_type": "code",
     "checksum": "c82f3da8e50becf7c54ab8ff71fdb5db",
     "grade": true,
     "grade_id": "cell-b1c1be4c92c81131",
     "locked": true,
     "points": 1,
     "schema_version": 3,
     "solution": false,
     "task": false
    }
   },
   "outputs": [],
   "source": []
  },
  {
   "cell_type": "code",
   "execution_count": null,
   "id": "fd78c42557ba23f2",
   "metadata": {
    "ExecuteTime": {
     "end_time": "2024-06-07T13:05:57.368099Z",
     "start_time": "2024-06-07T13:05:57.357942Z"
    },
    "deletable": false,
    "editable": false,
    "nbgrader": {
     "cell_type": "code",
     "checksum": "3f7193c16176eaeb93aee72a059e258d",
     "grade": true,
     "grade_id": "cell-8058c8a7d3ead95f",
     "locked": true,
     "points": 1,
     "schema_version": 3,
     "solution": false,
     "task": false
    }
   },
   "outputs": [],
   "source": []
  },
  {
   "cell_type": "code",
   "execution_count": null,
   "id": "204662fa1d6405ed",
   "metadata": {
    "ExecuteTime": {
     "end_time": "2024-06-07T13:05:57.378798Z",
     "start_time": "2024-06-07T13:05:57.368742Z"
    },
    "deletable": false,
    "editable": false,
    "nbgrader": {
     "cell_type": "code",
     "checksum": "31e2710193d1bd1f929a3a7649e2c28e",
     "grade": true,
     "grade_id": "cell-7d38c460ab6078dd",
     "locked": true,
     "points": 1,
     "schema_version": 3,
     "solution": false,
     "task": false
    }
   },
   "outputs": [],
   "source": []
  },
  {
   "cell_type": "code",
   "execution_count": null,
   "id": "3fcbd3891d03d701",
   "metadata": {
    "ExecuteTime": {
     "end_time": "2024-06-07T13:05:57.394112Z",
     "start_time": "2024-06-07T13:05:57.379402Z"
    },
    "deletable": false,
    "editable": false,
    "nbgrader": {
     "cell_type": "code",
     "checksum": "4e8f657fd7f2bb3fd77d38e65b2c58b0",
     "grade": true,
     "grade_id": "cell-5536e52d11fbc317",
     "locked": true,
     "points": 1,
     "schema_version": 3,
     "solution": false,
     "task": false
    }
   },
   "outputs": [],
   "source": []
  },
  {
   "cell_type": "markdown",
   "id": "c5c7fa3c5e8c362c",
   "metadata": {
    "deletable": false,
    "editable": false,
    "nbgrader": {
     "cell_type": "markdown",
     "checksum": "ebcb464a12a81400007a1fe477a655e0",
     "grade": false,
     "grade_id": "cell-596eaee4c077e1d5",
     "locked": true,
     "schema_version": 3,
     "solution": false,
     "task": false
    }
   },
   "source": [
    "# Task 6: Regression Tree\n",
    " The regression tree in Figure (\\ref{fig:regression_tree}) is a model of a particular $min\\_samples\\_leaf$ value applied to the sklearn exemplary Diabetes dataset. This dataset has 442 observations with the following 10 feature columns: age, sex, body mass index (bmi), average blood pressure (bp) and six blood serum measurements (s1-s6). The target variable is a quantitative measure of disease progression one year after baseline. The statisticians were asked to construct a model that predicted target $y$ from covariates. Two hopes were evident here that the model would produce accurate baseline predictions of response for future patients and also that the form of the model would suggest which covariates were important factors in disease progression.\n",
    " \n",
    "![Tree](regressiontree.jpg)\n",
    " \n"
   ]
  },
  {
   "cell_type": "markdown",
   "id": "9caa0cf64e5ff2c",
   "metadata": {
    "deletable": false,
    "editable": false,
    "nbgrader": {
     "cell_type": "markdown",
     "checksum": "a4efb0d5cd6da7334a2e1dc710d7ce69",
     "grade": false,
     "grade_id": "cell-40d37aff9fd69ff3",
     "locked": true,
     "schema_version": 3,
     "solution": false,
     "task": false
    }
   },
   "source": [
    "Specify, in which leaf node, the observation (age=41, sex=1, bmi=0.05, bp=0.006, s1=0.02, s2=0.01,\n",
    "s3=-0.05, s4=-0.33, s5=0.006, s6=0.03) falls (leaf count starts at zero from the leftmost), and report\n",
    "its predicted disease progression value one year after the baseline."
   ]
  },
  {
   "cell_type": "code",
   "execution_count": null,
   "id": "15c41c27f0196e2",
   "metadata": {
    "ExecuteTime": {
     "end_time": "2024-06-07T13:05:57.405780Z",
     "start_time": "2024-06-07T13:05:57.394742Z"
    },
    "deletable": false,
    "nbgrader": {
     "cell_type": "code",
     "checksum": "e64591501de1e6ba0e3d16a505ff88cb",
     "grade": false,
     "grade_id": "cell-c2ddfc5490a64911",
     "locked": false,
     "schema_version": 3,
     "solution": true,
     "task": false
    }
   },
   "outputs": [],
   "source": [
    "node = 7\n",
    "value = 192.413"
   ]
  },
  {
   "cell_type": "code",
   "execution_count": null,
   "id": "7bb33af684db96ed",
   "metadata": {
    "ExecuteTime": {
     "end_time": "2024-06-07T13:05:57.417164Z",
     "start_time": "2024-06-07T13:05:57.406558Z"
    },
    "deletable": false,
    "editable": false,
    "nbgrader": {
     "cell_type": "code",
     "checksum": "bb4d1c2ec2ec25eb4bb645a0f640d3a0",
     "grade": true,
     "grade_id": "cell-b5aa45f63bec577a",
     "locked": true,
     "points": 1,
     "schema_version": 3,
     "solution": false,
     "task": false
    }
   },
   "outputs": [],
   "source": []
  },
  {
   "cell_type": "markdown",
   "id": "ace959b539bab7a4",
   "metadata": {
    "deletable": false,
    "editable": false,
    "nbgrader": {
     "cell_type": "markdown",
     "checksum": "1641549e371e565286091be25e37e30d",
     "grade": false,
     "grade_id": "cell-bc10c5ebde88e6dd",
     "locked": true,
     "schema_version": 3,
     "solution": false,
     "task": false
    }
   },
   "source": [
    "Determine, given the plot, what value min_samples_leaf was used at most. "
   ]
  },
  {
   "cell_type": "code",
   "execution_count": null,
   "id": "63beb6fc83e044b",
   "metadata": {
    "ExecuteTime": {
     "end_time": "2024-06-07T13:05:57.427681Z",
     "start_time": "2024-06-07T13:05:57.417890Z"
    },
    "deletable": false,
    "nbgrader": {
     "cell_type": "code",
     "checksum": "e87eaa68e7b434ec778498246cc91eb2",
     "grade": false,
     "grade_id": "cell-1bba0d7deddb7848",
     "locked": false,
     "schema_version": 3,
     "solution": true,
     "task": false
    }
   },
   "outputs": [],
   "source": [
    "min_samples_leaf = 26"
   ]
  },
  {
   "cell_type": "code",
   "execution_count": null,
   "id": "45b01d3ad2bb2732",
   "metadata": {
    "ExecuteTime": {
     "end_time": "2024-06-07T13:05:57.438018Z",
     "start_time": "2024-06-07T13:05:57.428425Z"
    },
    "deletable": false,
    "editable": false,
    "nbgrader": {
     "cell_type": "code",
     "checksum": "374645af5a4d5367d22c4f2def822b5f",
     "grade": true,
     "grade_id": "cell-a1fd5d8864c36cb1",
     "locked": true,
     "points": 1,
     "schema_version": 3,
     "solution": false,
     "task": false
    }
   },
   "outputs": [],
   "source": []
  },
  {
   "cell_type": "markdown",
   "id": "9ef5499e2a77afa8",
   "metadata": {
    "deletable": false,
    "editable": false,
    "nbgrader": {
     "cell_type": "markdown",
     "checksum": "7dc81bd0d8caffe773d1d8374e9a6837",
     "grade": false,
     "grade_id": "cell-f23694d3843d4ed9",
     "locked": true,
     "schema_version": 3,
     "solution": false,
     "task": false
    }
   },
   "source": [
    "**What is the relevance of the min_samples_leaf parameter to the Regression Tree’s model performance?**\n",
    "\n",
    "A. It prevents overfitting by ensuring leaf nodes have a minimum number of samples, which helps the model generalize better.\n",
    "\n",
    "B. It controls the maximum depth of the tree.\n",
    "\n",
    "C. It sets the maximum number of leaf nodes in the tree.\n",
    "\n",
    "D. It prevents overfitting by stopping the tree from growing too deep.\n",
    "\n",
    "E. It is a hyperparameter."
   ]
  },
  {
   "cell_type": "code",
   "execution_count": null,
   "id": "e0f3878fb8373560",
   "metadata": {
    "ExecuteTime": {
     "end_time": "2024-06-07T13:05:57.448832Z",
     "start_time": "2024-06-07T13:05:57.438788Z"
    },
    "deletable": false,
    "nbgrader": {
     "cell_type": "code",
     "checksum": "47bdf9ae947435fabd398077f5cba02a",
     "grade": false,
     "grade_id": "cell-aecc1e421a36cc96",
     "locked": false,
     "schema_version": 3,
     "solution": true,
     "task": false
    }
   },
   "outputs": [],
   "source": [
    "answer = 'A'"
   ]
  },
  {
   "cell_type": "code",
   "execution_count": null,
   "id": "2d720c490b0286e0",
   "metadata": {
    "ExecuteTime": {
     "end_time": "2024-06-07T13:05:57.459717Z",
     "start_time": "2024-06-07T13:05:57.449481Z"
    },
    "deletable": false,
    "editable": false,
    "nbgrader": {
     "cell_type": "code",
     "checksum": "e1c69e2e095e03aa81eb05a8976d6383",
     "grade": true,
     "grade_id": "cell-e2253c4ccef90325",
     "locked": true,
     "points": 2,
     "schema_version": 3,
     "solution": false,
     "task": false
    }
   },
   "outputs": [],
   "source": []
  }
 ],
 "metadata": {
  "kernelspec": {
   "display_name": "base",
   "language": "python",
   "name": "python3"
  },
  "language_info": {
   "codemirror_mode": {
    "name": "ipython",
    "version": 3
   },
   "file_extension": ".py",
   "mimetype": "text/x-python",
   "name": "python",
   "nbconvert_exporter": "python",
   "pygments_lexer": "ipython3",
   "version": "3.12.4"
  }
 },
 "nbformat": 4,
 "nbformat_minor": 5
}
